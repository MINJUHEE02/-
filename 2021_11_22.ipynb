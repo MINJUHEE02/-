{
  "nbformat": 4,
  "nbformat_minor": 0,
  "metadata": {
    "colab": {
      "name": "2021.11.22.ipynb",
      "provenance": [],
      "collapsed_sections": [],
      "authorship_tag": "ABX9TyM2qOg7+Yf3PQ/d3D27RQlu",
      "include_colab_link": true
    },
    "kernelspec": {
      "name": "python3",
      "display_name": "Python 3"
    },
    "language_info": {
      "name": "python"
    }
  },
  "cells": [
    {
      "cell_type": "markdown",
      "metadata": {
        "id": "view-in-github",
        "colab_type": "text"
      },
      "source": [
        "<a href=\"https://colab.research.google.com/github/MINJUHEE02/-/blob/%EA%B8%B0%EC%B4%88%ED%8C%8C%EC%9D%B4%EC%8D%AC/2021_11_22.ipynb\" target=\"_parent\"><img src=\"https://colab.research.google.com/assets/colab-badge.svg\" alt=\"Open In Colab\"/></a>"
      ]
    },
    {
      "cell_type": "code",
      "metadata": {
        "colab": {
          "base_uri": "https://localhost:8080/"
        },
        "id": "05hV4ikhCbyh",
        "outputId": "e51680e7-2050-4bfd-c167-278155490aca"
      },
      "source": [
        "#age = 20\n",
        "#if age < 20:\n",
        "#  print(\"20살 미만\")\n",
        "#else:\n",
        "#  print(\"20살 이상\")\n",
        "\n",
        "#age = 20\n",
        "#if age <= 30 and age <= 50:\n",
        "#  print(\"20살과 50살 사이\")\n",
        "#else:\n",
        "#  print(\"20살과 50살 사이에 들어가지 않음\")\n",
        "\n",
        "#temp = int(input(\"현재 온도를 입력하세요\"))\n",
        "#if temp >= 25:\n",
        "#  print(\"반바지를 입으십시오\")\n",
        "#else:\n",
        "#  print(\"긴바지를 입으십시오.\")\n",
        "\n",
        "#score = int(input(\"점수를 입력하세요.:\"))\n",
        "#if score >= 90:\n",
        "#  print(\"A입니다.\")\n",
        "#elif score >= 80:\n",
        "#  print(\"B입니다.\")\n",
        "#elif score >= 70:\n",
        "#  print(\"C입니다.\")\n",
        "#elif score >= 60:\n",
        "#  print(\"D입니다.\")\n",
        "#else:\n",
        "#  print(\"F입니다.\")\n",
        "\n",
        "#import random\n",
        "#x = random.randint(1, 100)\n",
        "#y = random.randint(1, 100)\n",
        "#\n",
        "#answer = int(input(str(x)+\"-\"+str(y)+\"=\"))\n",
        "#if answer ==x - y :\n",
        "#  print(\"맞았습니다.\")\n",
        "#else:\n",
        "#  print(\"틀렸습니다.\")\n",
        "\n",
        "#n = int(input(\"정수를 입력하시오:\"))\n",
        "#if n%2 == 0 and n%3 ==0:\n",
        "#  print(\"2와 3으로 나누어 떨어져요.\")\n",
        "#else:\n",
        "#  print(\"안되요.\")\n",
        "\n",
        "for i in range(2, 101):\n",
        "  if i%2==0:\n",
        "    print(i,end = \"\")"
      ],
      "execution_count": 29,
      "outputs": [
        {
          "output_type": "stream",
          "name": "stdout",
          "text": [
            "2468101214161820222426283032343638404244464850525456586062646668707274767880828486889092949698100"
          ]
        }
      ]
    },
    {
      "cell_type": "code",
      "metadata": {
        "colab": {
          "base_uri": "https://localhost:8080/"
        },
        "id": "6YxeWijMNTS2",
        "outputId": "57377fe7-c0e4-4868-f4fb-a359b7070a64"
      },
      "source": [
        "age = 20\n",
        "if age < 20:\n",
        "  print(\"20살 미만\")\n",
        "else:\n",
        "  print(\"20살 이상\")"
      ],
      "execution_count": 35,
      "outputs": [
        {
          "output_type": "stream",
          "name": "stdout",
          "text": [
            "20살 이상\n"
          ]
        }
      ]
    },
    {
      "cell_type": "code",
      "metadata": {
        "colab": {
          "base_uri": "https://localhost:8080/"
        },
        "id": "YHf9s7faL2a7",
        "outputId": "3b1e9afe-5a4b-4391-f8b8-bb7817c5b180"
      },
      "source": [
        "age = 20\n",
        "if age <= 30 and age <= 50:\n",
        "  print(\"20살과 50살 사이\")\n",
        "else:\n",
        "  print(\"20살과 50살 사이에 들어가지 않음\")"
      ],
      "execution_count": 36,
      "outputs": [
        {
          "output_type": "stream",
          "name": "stdout",
          "text": [
            "20살과 50살 사이\n"
          ]
        }
      ]
    },
    {
      "cell_type": "code",
      "metadata": {
        "colab": {
          "base_uri": "https://localhost:8080/"
        },
        "id": "rh4EhjKYMAmL",
        "outputId": "67caa924-f1a9-4163-de3b-7179488ded94"
      },
      "source": [
        "temp = int(input(\"현재 온도를 입력하세요.:\"))\n",
        "if temp >= 25:\n",
        "  print(\"반바지를 입으십시오\")\n",
        "else:\n",
        "  print(\"긴바지를 입으십시오.\")"
      ],
      "execution_count": 34,
      "outputs": [
        {
          "output_type": "stream",
          "name": "stdout",
          "text": [
            "현재 온도를 입력하세요.:30\n",
            "반바지를 입으십시오\n"
          ]
        }
      ]
    },
    {
      "cell_type": "code",
      "metadata": {
        "colab": {
          "base_uri": "https://localhost:8080/"
        },
        "id": "1mrUwSZRMB6T",
        "outputId": "8184b4b5-1d92-4b1f-a87a-fab3d4ec1d4d"
      },
      "source": [
        "score = int(input(\"점수를 입력하세요.:\"))\n",
        "if score >= 90:\n",
        "  print(\"A입니다.\")\n",
        "elif score >= 80:\n",
        "  print(\"B입니다.\")\n",
        "elif score >= 70:\n",
        "  print(\"C입니다.\")\n",
        "elif score >= 60:\n",
        "  print(\"D입니다.\")\n",
        "else:\n",
        "  print(\"F입니다.\")\n"
      ],
      "execution_count": 32,
      "outputs": [
        {
          "output_type": "stream",
          "name": "stdout",
          "text": [
            "점수를 입력하세요.:60\n",
            "D입니다.\n"
          ]
        }
      ]
    },
    {
      "cell_type": "code",
      "metadata": {
        "colab": {
          "base_uri": "https://localhost:8080/"
        },
        "id": "qH-mf-uBMuJm",
        "outputId": "3347357e-328e-46cf-b1cd-6f16e046fdfc"
      },
      "source": [
        "import random\n",
        "x = random.randint(1, 100)\n",
        "y = random.randint(1, 100)\n",
        "\n",
        "answer = int(input(str(x)+\"-\"+str(y)+\"=\"))\n",
        "if answer ==x - y :\n",
        "  print(\"맞았습니다.\")\n",
        "else:\n",
        "  print(\"틀렸습니다.\")\n"
      ],
      "execution_count": 31,
      "outputs": [
        {
          "output_type": "stream",
          "name": "stdout",
          "text": [
            "75-59=16\n",
            "맞았습니다.\n"
          ]
        }
      ]
    },
    {
      "cell_type": "code",
      "metadata": {
        "colab": {
          "base_uri": "https://localhost:8080/"
        },
        "id": "_jjzXgEYMuNe",
        "outputId": "94b8ad53-cc81-4cc8-9a83-14c2e371faa5"
      },
      "source": [
        "n = int(input(\"정수를 입력하시오:\"))\n",
        "if n%2 == 0 and n%3 ==0:\n",
        "  print(\"2와 3으로 나누어 떨어져요.\")\n",
        "else:\n",
        "  print(\"안되요.\")"
      ],
      "execution_count": 38,
      "outputs": [
        {
          "output_type": "stream",
          "name": "stdout",
          "text": [
            "정수를 입력하시오:12\n",
            "2와 3으로 나누어 떨어져요.\n"
          ]
        }
      ]
    }
  ]
}