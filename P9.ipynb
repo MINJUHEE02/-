{
  "nbformat": 4,
  "nbformat_minor": 0,
  "metadata": {
    "colab": {
      "name": "P9.ipynb",
      "provenance": [],
      "collapsed_sections": [],
      "authorship_tag": "ABX9TyMRJHjJy8CoSjRdOFZACT6I",
      "include_colab_link": true
    },
    "kernelspec": {
      "name": "python3",
      "display_name": "Python 3"
    },
    "language_info": {
      "name": "python"
    }
  },
  "cells": [
    {
      "cell_type": "markdown",
      "metadata": {
        "id": "view-in-github",
        "colab_type": "text"
      },
      "source": [
        "<a href=\"https://colab.research.google.com/github/MINJUHEE02/-/blob/%EA%B8%B0%EC%B4%88%ED%8C%8C%EC%9D%B4%EC%8D%AC/P9.ipynb\" target=\"_parent\"><img src=\"https://colab.research.google.com/assets/colab-badge.svg\" alt=\"Open In Colab\"/></a>"
      ]
    },
    {
      "cell_type": "code",
      "execution_count": 1,
      "metadata": {
        "colab": {
          "base_uri": "https://localhost:8080/"
        },
        "id": "qx3TIEORrhht",
        "outputId": "e0c294a4-9f62-4c1e-822e-4481f864ede3"
      },
      "outputs": [
        {
          "output_type": "stream",
          "name": "stdout",
          "text": [
            "정수를 입력하시오: 5\n",
            "정수를 입력하시오: 7\n",
            "정수를 입력하시오: 2\n",
            "정수를 입력하시오: 9\n",
            "정수를 입력하시오: 10\n",
            "평균= 6.6\n"
          ]
        }
      ],
      "source": [
        "alist = []\n",
        "sum = 0\n",
        "\n",
        "for i in range(5):                       #5번 반복\n",
        "  i = int(input(\"정수를 입력하시오: \"))\n",
        "  alist.append(i).                      #append()로 리스트에 추가한다.\n",
        "\n",
        "for i in alist:\n",
        "  sum += i\n",
        "avg = sum/len(alist)\n",
        "print(\"평균=\", avg)"
      ]
    },
    {
      "cell_type": "code",
      "source": [
        "import random                                #주사위를 던져서 나의는 값의 빈도를 계산하는 프로그램\n",
        "counters = [0, 0, 0, 0, 0, 0,]\n",
        "\n",
        "for i in range(1000):\n",
        "  value = random.randint(0, 5)\n",
        "  counters[value] = counters[value] + 1\n",
        "\n",
        "for i in range(6):\n",
        "  print(\"주사위가 \", i+1, \"인 경우는 \", counters[i], \"번\")"
      ],
      "metadata": {
        "colab": {
          "base_uri": "https://localhost:8080/"
        },
        "id": "X4caNCCLshWz",
        "outputId": "cd1f1548-5187-4c23-9505-26c23909f8b6"
      },
      "execution_count": 4,
      "outputs": [
        {
          "output_type": "stream",
          "name": "stdout",
          "text": [
            "주사위가  1 인 경우는  152 번\n",
            "주사위가  2 인 경우는  184 번\n",
            "주사위가  3 인 경우는  179 번\n",
            "주사위가  4 인 경우는  143 번\n",
            "주사위가  5 인 경우는  196 번\n",
            "주사위가  6 인 경우는  146 번\n"
          ]
        }
      ]
    },
    {
      "cell_type": "code",
      "source": [
        "contacts = {}                                  #딕셔너리를 이용한 이름과 전화번호 저장\n",
        "\n",
        "while True:                                     #while 반복문\n",
        "  name = input(\"(입력모드)이름을 입력하시오: \")\n",
        "  if not name:\n",
        "    break;\n",
        "  tel = input(\"전화번호를 입력하시오: \")\n",
        "  contacts[name] = tel\n",
        "\n",
        "while True:\n",
        "  name = input(\"(검색모드)이름을 입력하시오: \")\n",
        "  if not name:\n",
        "       break;\n",
        "  if name in contacts :\n",
        "       print(name, \"의 전화번호는\", contacts[name], \"입니다\")\n",
        "  else:\n",
        "    print(\"없는 전화번호입니다.\")"
      ],
      "metadata": {
        "colab": {
          "base_uri": "https://localhost:8080/"
        },
        "id": "XYgEgFmmuKob",
        "outputId": "da19f441-455d-4579-dbfb-8457b609614c"
      },
      "execution_count": 15,
      "outputs": [
        {
          "name": "stdout",
          "output_type": "stream",
          "text": [
            "(입력모드)이름을 입력하시오: 민주희\n",
            "전화번호를 입력하시오: 010-1234-1234\n",
            "(입력모드)이름을 입력하시오: 콩순이\n",
            "전화번호를 입력하시오: 010-1236-1237\n",
            "(입력모드)이름을 입력하시오: \n",
            "(검색모드)이름을 입력하시오: 콩순이\n",
            "콩순이 의 전화번호는 010-1236-1237 입니다\n",
            "(검색모드)이름을 입력하시오: 민주희\n",
            "민주희 의 전화번호는 010-1234-1234 입니다\n",
            "(검색모드)이름을 입력하시오: \n"
          ]
        }
      ]
    }
  ]
}