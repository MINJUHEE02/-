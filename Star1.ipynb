{
  "nbformat": 4,
  "nbformat_minor": 0,
  "metadata": {
    "colab": {
      "name": "Star1.ipynb",
      "provenance": [],
      "collapsed_sections": [],
      "authorship_tag": "ABX9TyPhgkDI3BshkNIhXrsmJcDd",
      "include_colab_link": true
    },
    "kernelspec": {
      "name": "python3",
      "display_name": "Python 3"
    },
    "language_info": {
      "name": "python"
    }
  },
  "cells": [
    {
      "cell_type": "markdown",
      "metadata": {
        "id": "view-in-github",
        "colab_type": "text"
      },
      "source": [
        "<a href=\"https://colab.research.google.com/github/MINJUHEE02/-/blob/%EA%B8%B0%EC%B4%88%ED%8C%8C%EC%9D%B4%EC%8D%AC/Star1.ipynb\" target=\"_parent\"><img src=\"https://colab.research.google.com/assets/colab-badge.svg\" alt=\"Open In Colab\"/></a>"
      ]
    },
    {
      "cell_type": "code",
      "execution_count": 9,
      "metadata": {
        "colab": {
          "base_uri": "https://localhost:8080/"
        },
        "id": "86L9c5UQ3PcO",
        "outputId": "e23e5e28-e535-4cfb-eb1f-f4eb2118d7f6"
      },
      "outputs": [
        {
          "output_type": "stream",
          "name": "stdout",
          "text": [
            "암호화할 메세지를 입력하시오: Hello\n",
            "키값을 입력하시오: 3\n",
            "암호화된 메세지는 다음과 같습니다.\n",
            "ehooro\n"
          ]
        }
      ],
      "source": [
        "def encrypt(message, key):          #시저 암호         #message는 암호화될 텍스트, key는 암호화에서 사용되는 키\n",
        "  output = \"\".                                       #output 변수는 암호화된 문자열을 저장\n",
        "  for char in message:\n",
        "    if char.isalpha():\n",
        "      code = ord(char)\n",
        "      code += key\n",
        "      if code > ord('z'):\n",
        "        code -= 26\n",
        "      elif code < ord('a'):\n",
        "        code += 26\n",
        "      output += chr(code).                       #chr() 함수를 이용하면 코드를 글자로 바꿀 수 있음\n",
        "  else:\n",
        "     output += char\n",
        "\n",
        "  return output\n",
        "\n",
        "message = input(\"암호화할 메세지를 입력하시오: \")\n",
        "key = int(input(\"키값을 입력하시오: \"))\n",
        "\n",
        "print(\"암호화된 메세지는 다음과 같습니다.\")\n",
        "print(encrypt(message, key))"
      ]
    }
  ]
}