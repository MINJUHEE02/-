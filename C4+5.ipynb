{
  "nbformat": 4,
  "nbformat_minor": 0,
  "metadata": {
    "colab": {
      "name": "C4+5.ipynb",
      "provenance": [],
      "collapsed_sections": [],
      "authorship_tag": "ABX9TyO2dXYkQThLkaifEE6vSp1R",
      "include_colab_link": true
    },
    "kernelspec": {
      "name": "python3",
      "display_name": "Python 3"
    },
    "language_info": {
      "name": "python"
    }
  },
  "cells": [
    {
      "cell_type": "markdown",
      "metadata": {
        "id": "view-in-github",
        "colab_type": "text"
      },
      "source": [
        "<a href=\"https://colab.research.google.com/github/MINJUHEE02/-/blob/%EA%B8%B0%EC%B4%88%ED%8C%8C%EC%9D%B4%EC%8D%AC/C4%2B5.ipynb\" target=\"_parent\"><img src=\"https://colab.research.google.com/assets/colab-badge.svg\" alt=\"Open In Colab\"/></a>"
      ]
    },
    {
      "cell_type": "code",
      "source": [
        "print(\"안녕하세요\")\n",
        "name = input(\"이름이 어떻게 되시나요? \")\n",
        "print(\"만나서 반갑습니다.\" + name + \"씨\")\n",
        "print(\"이름의 길이는 다음과 같군요: \", end =\"\")\n",
        "print(len(name))\n",
        "age = int(input(\"나이가 어떻게 되나요? \"))\n",
        "print(\"내년이면 \", str(age+1),\"이 되시요군요.\")\n",
        "hobby = input(\"취미가 무엇인가요?\")\n",
        "print(\"네 저도\"+hobby+\"좋아합니다.\")"
      ],
      "metadata": {
        "colab": {
          "base_uri": "https://localhost:8080/"
        },
        "id": "IhxNh1Y7AM1P",
        "outputId": "a7584042-9e8c-41f8-8754-dcd979f02077"
      },
      "execution_count": 6,
      "outputs": [
        {
          "output_type": "stream",
          "name": "stdout",
          "text": [
            "안녕하세요\n",
            "이름이 어떻게 되시나요? 민주희\n",
            "만나서 반갑습니다.민주희씨\n",
            "이름의 길이는 다음과 같군요: 3\n",
            "나이가 어떻게 되나요? 20\n",
            "내년이면  21 이 되시요군요.\n",
            "취미가 무엇인가요?운동\n",
            "네 저도운동좋아합니다.\n"
          ]
        }
      ]
    },
    {
      "cell_type": "code",
      "source": [
        "year = input(\"오늘의 연도를 입력하시오: \")\n",
        "month = input(\"오늘의 월을 입력하시오: \")\n",
        "date = input(\"오늘의 일을 입력하시오: \")\n",
        "\n",
        "print(month+\"/\",date+\"/\",year)"
      ],
      "metadata": {
        "colab": {
          "base_uri": "https://localhost:8080/"
        },
        "id": "O9DYxLJ8BaaN",
        "outputId": "8cc966da-7808-4b6e-81ef-b667821713ed"
      },
      "execution_count": 7,
      "outputs": [
        {
          "output_type": "stream",
          "name": "stdout",
          "text": [
            "오늘의 연도를 입력하시오: 2021\n",
            "오늘의 월을 입력하시오: 12\n",
            "오늘의 일을 입력하시오: 11\n",
            "12/ 11/ 2021\n"
          ]
        }
      ]
    },
    {
      "cell_type": "code",
      "source": [
        "import time\n",
        "\n",
        "now = time.time()\n",
        "thisyear = int(1970 + now//(365*24*3600))\n",
        "\n",
        "print(\"올해는 \",thisyear,\"입니다.\")\n",
        "age = int(input(\"몇 살이신지요? \"))\n",
        "print(\"2050년에는 \",(age+2050-thisyear),\"살 이시군요.\")"
      ],
      "metadata": {
        "colab": {
          "base_uri": "https://localhost:8080/"
        },
        "id": "cBOZulhnCk-4",
        "outputId": "c33d5a9e-285e-4026-84df-e9b9ec3f284f"
      },
      "execution_count": 9,
      "outputs": [
        {
          "output_type": "stream",
          "name": "stdout",
          "text": [
            "올해는  2021 입니다.\n",
            "몇 살이신지요? 20\n",
            "2050년에는  49 살 이시군요.\n"
          ]
        }
      ]
    },
    {
      "cell_type": "code",
      "source": [
        "import random\n",
        "\n",
        "print(\"주사위 던지기 게임을 시작합니다.\")\n",
        "dice = random.randrange(6)+1\n",
        "print(\"주사위의 눈은 \"+str(dice)+\"입니다.\")\n",
        "print(\"게임이 종료되었습니다.\")"
      ],
      "metadata": {
        "colab": {
          "base_uri": "https://localhost:8080/"
        },
        "id": "NrHce7SYDv2o",
        "outputId": "17ab6252-8017-4f9b-c94f-40b81e90c023"
      },
      "execution_count": 14,
      "outputs": [
        {
          "output_type": "stream",
          "name": "stdout",
          "text": [
            "주사위 던지기 게임을 시작합니다.\n",
            "주사위의 눈은 2입니다.\n",
            "게임이 종료되었습니다.\n"
          ]
        }
      ]
    },
    {
      "cell_type": "code",
      "source": [
        "import random\n",
        "time = random.randint(1,24)\n",
        "print(\"좋은 아침입니다. 지금 시각은 \" +str(time)+ \"시 입니다.\")\n",
        "sunny = random.choice([True,False])\n",
        "if sunny :\n",
        "  print(\"현재 날씨가 화창합니다.\")\n",
        "else:\n",
        "  print(\"현재 날씨가 화창하지 않습니다.\")\n",
        "if time >= 6 and time <9 and True:\n",
        "  print(\"종달새가 노래를 한다.\")\n",
        "\n",
        "elif time >= 14 and time <16 and Ture:\n",
        "  print(\"종달새가 노래를 하지 않는다.\")"
      ],
      "metadata": {
        "colab": {
          "base_uri": "https://localhost:8080/"
        },
        "id": "jGP9vYQXEqKS",
        "outputId": "cd560d2f-13b9-4173-bc42-a0daaed5b0da"
      },
      "execution_count": 23,
      "outputs": [
        {
          "output_type": "stream",
          "name": "stdout",
          "text": [
            "좋은 아침입니다. 지금 시각은 8시 입니다.\n",
            "현재 날씨가 화창합니다.\n",
            "종달새가 노래를 한다.\n"
          ]
        }
      ]
    },
    {
      "cell_type": "code",
      "source": [
        "id = \"ilovepyhton\"\n",
        "pw = \"123456\"\n",
        "s = input(\"아이디를 입력하시오: \")\n",
        "if s == id:\n",
        "  p = input(\"아이디를 입력하시오: \")\n",
        "  if p == pw:\n",
        "    print(\"환영합니다.\")\n",
        "  else:\n",
        "    print(\"비밀번호가 잘못되었습니다.\")\n",
        "else:\n",
        "  print(\"아이디를 찾을 수 없습니다.\")"
      ],
      "metadata": {
        "colab": {
          "base_uri": "https://localhost:8080/"
        },
        "id": "UUEgO_xhHSPy",
        "outputId": "f2c9c16c-0ff6-480c-e164-5df9d905e4ce"
      },
      "execution_count": 26,
      "outputs": [
        {
          "output_type": "stream",
          "name": "stdout",
          "text": [
            "아이디를 입력하시오: Hello\n",
            "아이디를 찾을 수 없습니다.\n"
          ]
        }
      ]
    },
    {
      "cell_type": "code",
      "source": [
        "import random\n",
        "\n",
        "options = [\"왼쪽 상단\", \"왼쪽 하단\", \"중앙\", \"오른쪽 상단\", \"오른쪽 하단\"]\n",
        "computer_choice = random.choice(options)\n",
        "user_choice = input(\"어디를 수비하시겠어요?(왼쪽 상단, 왼쪽 하단, 중앙, 오른쪽 상단, 오른쪽 하단)\")\n",
        "if computer_choice == user_choice:\n",
        "  print(\"수비에 성공하셨습니다.\")\n",
        "else:\n",
        "  print(\"패널티 킥이 성공하였습니다.\")"
      ],
      "metadata": {
        "colab": {
          "base_uri": "https://localhost:8080/"
        },
        "id": "FwhwFWM4IXkx",
        "outputId": "f6f2cef3-5694-4c6e-bdd4-37a14f874b46"
      },
      "execution_count": 29,
      "outputs": [
        {
          "output_type": "stream",
          "name": "stdout",
          "text": [
            "어디를 수비하시겠어요?(왼쪽 상단, 왼쪽 하단, 중앙, 오른쪽 상단, 오른쪽 하단)중앙\n",
            "패널티 킥이 성공하였습니다.\n"
          ]
        }
      ]
    }
  ]
}