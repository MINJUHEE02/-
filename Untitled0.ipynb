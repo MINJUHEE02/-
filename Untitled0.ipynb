{
  "nbformat": 4,
  "nbformat_minor": 0,
  "metadata": {
    "colab": {
      "name": "Untitled0.ipynb",
      "provenance": [],
      "collapsed_sections": [],
      "authorship_tag": "ABX9TyPuM4i1Zll7DMVqwXLsYJEC",
      "include_colab_link": true
    },
    "kernelspec": {
      "name": "python3",
      "display_name": "Python 3"
    },
    "language_info": {
      "name": "python"
    }
  },
  "cells": [
    {
      "cell_type": "markdown",
      "metadata": {
        "id": "view-in-github",
        "colab_type": "text"
      },
      "source": [
        "<a href=\"https://colab.research.google.com/github/MINJUHEE02/-/blob/%EA%B8%B0%EC%B4%88%ED%8C%8C%EC%9D%B4%EC%8D%AC/Untitled0.ipynb\" target=\"_parent\"><img src=\"https://colab.research.google.com/assets/colab-badge.svg\" alt=\"Open In Colab\"/></a>"
      ]
    },
    {
      "cell_type": "code",
      "metadata": {
        "colab": {
          "base_uri": "https://localhost:8080/"
        },
        "id": "88G50_P5QysQ",
        "outputId": "a6811e28-74fd-43b0-d216-0305225c51ac"
      },
      "source": [
        "score = int(input(\",성적을 입력하시오.:\"))\n",
        "\n",
        "if score >= 90:\n",
        "  print(\"A학점입니다.\")\n",
        "elif score >=80:\n",
        "  print(\"B학점입니다.\") \n",
        "elif score >=70:\n",
        "  print(\"C학점입니다.\") \n",
        "elif score >=60:\n",
        "  print(\"D학점입니다.\") \n",
        "else:\n",
        "  print(\"F학점입니다.\")"
      ],
      "execution_count": null,
      "outputs": [
        {
          "output_type": "stream",
          "name": "stdout",
          "text": [
            ",성적을 입력하시오.:33\n",
            "F학점입니다.\n"
          ]
        }
      ]
    }
  ]
}