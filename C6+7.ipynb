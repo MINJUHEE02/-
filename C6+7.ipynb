{
  "nbformat": 4,
  "nbformat_minor": 0,
  "metadata": {
    "colab": {
      "name": "C6+7.ipynb",
      "provenance": [],
      "collapsed_sections": [],
      "authorship_tag": "ABX9TyOJR3mq4aFwjDXcf7nIILnQ",
      "include_colab_link": true
    },
    "kernelspec": {
      "name": "python3",
      "display_name": "Python 3"
    },
    "language_info": {
      "name": "python"
    }
  },
  "cells": [
    {
      "cell_type": "markdown",
      "metadata": {
        "id": "view-in-github",
        "colab_type": "text"
      },
      "source": [
        "<a href=\"https://colab.research.google.com/github/MINJUHEE02/-/blob/%EA%B8%B0%EC%B4%88%ED%8C%8C%EC%9D%B4%EC%8D%AC/C6%2B7.ipynb\" target=\"_parent\"><img src=\"https://colab.research.google.com/assets/colab-badge.svg\" alt=\"Open In Colab\"/></a>"
      ]
    },
    {
      "cell_type": "code",
      "execution_count": null,
      "metadata": {
        "colab": {
          "base_uri": "https://localhost:8080/"
        },
        "id": "FCOCtMOcpZxg",
        "outputId": "3c8dc4c5-7e69-4f2a-a987-a8efe34e3564"
      },
      "outputs": [
        {
          "output_type": "stream",
          "name": "stdout",
          "text": [
            "1 * 1 = 1\n",
            "1 * 2 = 2\n",
            "1 * 3 = 3\n",
            "1 * 4 = 4\n",
            "1 * 5 = 5\n",
            "1 * 6 = 6\n",
            "1 * 7 = 7\n",
            "1 * 8 = 8\n",
            "1 * 9 = 9\n",
            " \n",
            "2 * 1 = 2\n",
            "2 * 2 = 4\n",
            "2 * 3 = 6\n",
            "2 * 4 = 8\n",
            "2 * 5 = 10\n",
            "2 * 6 = 12\n",
            "2 * 7 = 14\n",
            "2 * 8 = 16\n",
            "2 * 9 = 18\n",
            " \n",
            "3 * 1 = 3\n",
            "3 * 2 = 6\n",
            "3 * 3 = 9\n",
            "3 * 4 = 12\n",
            "3 * 5 = 15\n",
            "3 * 6 = 18\n",
            "3 * 7 = 21\n",
            "3 * 8 = 24\n",
            "3 * 9 = 27\n",
            " \n",
            "4 * 1 = 4\n",
            "4 * 2 = 8\n",
            "4 * 3 = 12\n",
            "4 * 4 = 16\n",
            "4 * 5 = 20\n",
            "4 * 6 = 24\n",
            "4 * 7 = 28\n",
            "4 * 8 = 32\n",
            "4 * 9 = 36\n",
            " \n",
            "5 * 1 = 5\n",
            "5 * 2 = 10\n",
            "5 * 3 = 15\n",
            "5 * 4 = 20\n",
            "5 * 5 = 25\n",
            "5 * 6 = 30\n",
            "5 * 7 = 35\n",
            "5 * 8 = 40\n",
            "5 * 9 = 45\n",
            " \n",
            "6 * 1 = 6\n",
            "6 * 2 = 12\n",
            "6 * 3 = 18\n",
            "6 * 4 = 24\n",
            "6 * 5 = 30\n",
            "6 * 6 = 36\n",
            "6 * 7 = 42\n",
            "6 * 8 = 48\n",
            "6 * 9 = 54\n",
            " \n",
            "7 * 1 = 7\n",
            "7 * 2 = 14\n",
            "7 * 3 = 21\n",
            "7 * 4 = 28\n",
            "7 * 5 = 35\n",
            "7 * 6 = 42\n",
            "7 * 7 = 49\n",
            "7 * 8 = 56\n",
            "7 * 9 = 63\n",
            " \n",
            "8 * 1 = 8\n",
            "8 * 2 = 16\n",
            "8 * 3 = 24\n",
            "8 * 4 = 32\n",
            "8 * 5 = 40\n",
            "8 * 6 = 48\n",
            "8 * 7 = 56\n",
            "8 * 8 = 64\n",
            "8 * 9 = 72\n",
            " \n",
            "9 * 1 = 9\n",
            "9 * 2 = 18\n",
            "9 * 3 = 27\n",
            "9 * 4 = 36\n",
            "9 * 5 = 45\n",
            "9 * 6 = 54\n",
            "9 * 7 = 63\n",
            "9 * 8 = 72\n",
            "9 * 9 = 81\n",
            " \n"
          ]
        }
      ],
      "source": [
        "i = 1\n",
        "while i <=9:\n",
        "  j = 1\n",
        "  while j <=9:\n",
        "    print(i, \"*\", j, \"=\", i*j)\n",
        "    j = j+1\n",
        "  print(\" \")\n",
        "  i = i+1"
      ]
    },
    {
      "cell_type": "code",
      "source": [
        "import random\n",
        "\n",
        "tries = 0\n",
        "guess = 0\n",
        "answer = random.randint(1, 100)\n",
        "\n",
        "print(\"1부터 100까지의 숫자를 맞추시오: \")\n",
        "\n",
        "while guess!= answer:\n",
        "  if tries < 10:\n",
        "    guess = int(input(\"숫자를 입력하시오: \"))\n",
        "    tries = tries + 1\n",
        "    if guess > answer:\n",
        "      print(\"낮음!\")\n",
        "    elif guess < answer:\n",
        "      print(\"높음!\")\n",
        "  else:\n",
        "    print(\"시도횟수를 초과하셨습니다.\")\n",
        "    break\n",
        "\n",
        "if guess == answer:\n",
        "  print(\"축하합니다. 시도횟수=\", tries)\n",
        "else:\n",
        "  print(\"정답은 \", answer)"
      ],
      "metadata": {
        "colab": {
          "base_uri": "https://localhost:8080/"
        },
        "id": "W4bPFMNoqdv7",
        "outputId": "287db05e-148d-4317-f209-20bf58481c88"
      },
      "execution_count": null,
      "outputs": [
        {
          "output_type": "stream",
          "name": "stdout",
          "text": [
            "1부터 100까지의 숫자를 맞추시오: \n",
            "숫자를 입력하시오: 6\n",
            "높음!\n",
            "숫자를 입력하시오: 40\n",
            "높음!\n",
            "숫자를 입력하시오: 60\n",
            "낮음!\n",
            "숫자를 입력하시오: 45\n",
            "높음!\n",
            "숫자를 입력하시오: 50\n",
            "낮음!\n",
            "숫자를 입력하시오: 46\n",
            "높음!\n",
            "숫자를 입력하시오: 48\n",
            "높음!\n",
            "숫자를 입력하시오: 49\n",
            "축하합니다. 시도횟수= 8\n"
          ]
        }
      ]
    },
    {
      "cell_type": "code",
      "source": [
        "import random\n",
        "\n",
        "while True:\n",
        " q = random.randint(0,1)\n",
        " x = random.randint(1,100)\n",
        " y = random.randint(1,100)\n",
        " if(q == 1)&(x>y):\n",
        "    print(x, \"-\", y, \"=\", end=\" \")\n",
        "    answer=int(input())\n",
        "    if answer == x-y:\n",
        "      print(\"잘했어요!!\")\n",
        "    else:\n",
        "      print(\"다음번에는 잘할 수 있죠?\")\n",
        "else:\n",
        "  print(x, \"+\", y, \"=\", end= \" \")\n",
        "  answer = int(input())\n",
        "  if answer == x+y:\n",
        "    print(\"잘했어요!!\")\n",
        "  else:\n",
        "    print(\"다음번에는 잘할 수 있죠?\")"
      ],
      "metadata": {
        "id": "v-z4Twa4sseO",
        "colab": {
          "base_uri": "https://localhost:8080/"
        },
        "outputId": "0d13dbdb-0e30-4ee6-b67d-ffc82023439f"
      },
      "execution_count": null,
      "outputs": [
        {
          "output_type": "stream",
          "name": "stdout",
          "text": [
            "73 - 3 = 70\n",
            "잘했어요!!\n",
            "83 - 47 = 36\n",
            "잘했어요!!\n",
            "25 - 5 = 20\n",
            "잘했어요!!\n",
            "33 - 32 = "
          ]
        }
      ]
    },
    {
      "cell_type": "code",
      "source": [
        "import random\n",
        "number = random.randint(1, 8)\n",
        "\n",
        "list = [\"한 점의 의심도 없이 맞습니다.\", \"할 수 있습니다.\", \"물론입니다.\", \"글쎄요. 열심히 해야 할 것입니다.\", \"안 될 것 같습니다.\", \"조금 더 노력하세요\",\n",
        "        \"행운을 빕니다.\", \"다음 달에 할 수 있을 겁니다.\"]\n",
        "\n",
        "while True:\n",
        "  name = input(\"이름:(종료하려면 엔터키)\")\n",
        "  if name == \"\":\n",
        "     break;\n",
        "  question = input(\"무엇에 대하여 알고 싶은가요?\")\n",
        "  print(name, \"님\", \"w\", question, \"w에 대하여 질문 주셨군요.\")\n",
        "  print(\"운명의 주사위를 굴려볼게요..\")\n",
        "  print(list[number-1])"
      ],
      "metadata": {
        "colab": {
          "base_uri": "https://localhost:8080/"
        },
        "id": "MXjxDVUeu8Ma",
        "outputId": "1a3921aa-5901-485c-dbab-691de7ed0b63"
      },
      "execution_count": 28,
      "outputs": [
        {
          "name": "stdout",
          "output_type": "stream",
          "text": [
            "이름:(종료하려면 엔터키)민주희\n",
            "무엇에 대하여 알고 싶은가요?전에 하던 과제 한번 날리고 새로 하는 중인데 괜찮을까?\n",
            "민주희 님 w 전에 하던 과제 한번 날리고 새로 하는 중인데 괜찮을까? w에 대하여 질문 주셨군요.\n",
            "운명의 주사위를 굴려볼게요..\n",
            "글쎄요. 열심히 해야 할 것입니다.\n",
            "이름:(종료하려면 엔터키)\n"
          ]
        }
      ]
    }
  ]
}