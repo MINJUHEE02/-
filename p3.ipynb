{
  "nbformat": 4,
  "nbformat_minor": 0,
  "metadata": {
    "colab": {
      "name": "p3.ipynb",
      "provenance": [],
      "collapsed_sections": [],
      "authorship_tag": "ABX9TyOeDfthbomsa00v8fDPou/l",
      "include_colab_link": true
    },
    "kernelspec": {
      "name": "python3",
      "display_name": "Python 3"
    },
    "language_info": {
      "name": "python"
    }
  },
  "cells": [
    {
      "cell_type": "markdown",
      "metadata": {
        "id": "view-in-github",
        "colab_type": "text"
      },
      "source": [
        "<a href=\"https://colab.research.google.com/github/MINJUHEE02/-/blob/%EA%B8%B0%EC%B4%88%ED%8C%8C%EC%9D%B4%EC%8D%AC/p3.ipynb\" target=\"_parent\"><img src=\"https://colab.research.google.com/assets/colab-badge.svg\" alt=\"Open In Colab\"/></a>"
      ]
    },
    {
      "cell_type": "code",
      "execution_count": 2,
      "metadata": {
        "colab": {
          "base_uri": "https://localhost:8080/"
        },
        "id": "xVDINUA0I5Lh",
        "outputId": "300c5acb-a661-475a-cfae-8000f805e488"
      },
      "outputs": [
        {
          "output_type": "stream",
          "name": "stdout",
          "text": [
            "x: 2\n",
            "y: 6\n",
            "두 수의 합:  8\n",
            "두 수의 차:  -4\n",
            "두 수의 곱:  12\n",
            "두 수의 평균:  4.0\n",
            "큰 수:  6\n",
            "작은 수:  2\n"
          ]
        }
      ],
      "source": [
        "x = int(input(\"x: \"))\n",
        "y = int(input(\"y: \"))\n",
        "\n",
        "print(\"두 수의 합: \", x+y)\n",
        "print(\"두 수의 차: \", x-y)\n",
        "print(\"두 수의 곱: \", x*y)\n",
        "print(\"두 수의 평균: \", (x+y)/2)\n",
        "print(\"큰 수: \", max(x, y))                #max(x, y)와 같이 호출하면 x와 y중에서 큰 수가 반환됨\n",
        "print(\"작은 수: \", min(x, y))"
      ]
    },
    {
      "cell_type": "code",
      "source": [
        "r = float(input(\"r: \"))\n",
        "h = float(input(\"h: \"))\n",
        "\n",
        "vol = 3.141592*r**2 * h\n",
        "print(\"원기둥의 부피: \", vol)"
      ],
      "metadata": {
        "colab": {
          "base_uri": "https://localhost:8080/"
        },
        "id": "YN7FJEniKPPp",
        "outputId": "79133b2e-199f-45a1-8042-5e88871d666d"
      },
      "execution_count": 3,
      "outputs": [
        {
          "output_type": "stream",
          "name": "stdout",
          "text": [
            "r: 10\n",
            "h: 100\n",
            "원기둥의 부피:  31415.92\n"
          ]
        }
      ]
    },
    {
      "cell_type": "code",
      "source": [
        "number = int(input(\"정수를 입력하시오: \"))\n",
        "\n",
        "sum = 0\n",
        "sum = sum + number % 10              #1의  자리수는 number % 10으로 계산할 수 있다. 10의 자리수는 number = number // 10한 후에 동일한 처리를 되풀이 한다.\n",
        "number = number // 10               \n",
        "sum = sum + number % 10\n",
        "number = number // 10\n",
        "sum = sum + number % 10\n",
        "number = number // 10\n",
        "sum = sum + number % 10\n",
        "number = number // 10\n",
        "print(\"자리수의 합: \", str(sum))"
      ],
      "metadata": {
        "colab": {
          "base_uri": "https://localhost:8080/"
        },
        "id": "1twHtds-LF-h",
        "outputId": "692211b3-0561-4811-b124-50b1935a066d"
      },
      "execution_count": 7,
      "outputs": [
        {
          "output_type": "stream",
          "name": "stdout",
          "text": [
            "정수를 입력하시오: 123\n",
            "자리수의 합:  6\n"
          ]
        }
      ]
    },
    {
      "cell_type": "code",
      "source": [
        "x1 = int(input(\"x1: \"))\n",
        "y1 = int(input(\"y1: \"))\n",
        "x2 = int(input(\"x2: \"))\n",
        "y2 = int(input(\"y2: \"))\n",
        "dist = ((x2 - x1)**2 + (y2 - y1)**2 )**0.5       #제곱근을 게산하려면 0.5승을 하면 됨\n",
        "print(\"두 점 사이의 거리=\", dist)"
      ],
      "metadata": {
        "colab": {
          "base_uri": "https://localhost:8080/"
        },
        "id": "8_VydmRNNDmJ",
        "outputId": "37ebd890-4764-41c9-a398-e9ca661d74f6"
      },
      "execution_count": 8,
      "outputs": [
        {
          "output_type": "stream",
          "name": "stdout",
          "text": [
            "x1: 3\n",
            "y1: 4\n",
            "x2: 5\n",
            "y2: 5\n",
            "두 점 사이의 거리= 2.23606797749979\n"
          ]
        }
      ]
    },
    {
      "cell_type": "code",
      "source": [
        "import time\n",
        "\n",
        "fseconds = time.time()\n",
        "total_sec = int(fseconds)\n",
        "total_min = total_sec // 60                          #전체 초를 60으로 나누어서 몫을 구하면 전체 분이 됨 이것을 60으로 나눈 나머지가 현재 분이 된다.\n",
        "minute = total_min % 60\n",
        "total_hour = total_min // 60\n",
        "hour = total_hour % 24\n",
        "\n",
        "print(\"현재 시간(영국 그리니치 시각): \" + str(hour) + \"시\"+ str(minute) + \"분\")"
      ],
      "metadata": {
        "colab": {
          "base_uri": "https://localhost:8080/"
        },
        "id": "oTmfZGK2OKd5",
        "outputId": "c7fce0be-eea5-44bd-d02a-1bd35fbd6c23"
      },
      "execution_count": 9,
      "outputs": [
        {
          "output_type": "stream",
          "name": "stdout",
          "text": [
            "현재 시간(영국 그리니치 시각): 7시30분\n"
          ]
        }
      ]
    },
    {
      "cell_type": "code",
      "source": [
        "mass = float(input(\"물체의 무게를 입력하시오(킬로그램): \"))\n",
        "velocity = float(input(\"물체의 속도를 입력하시오(미터/초): \"))\n",
        "\n",
        "energy = 0.5 * mass * velocity **2                                             #**는 지수 연산자\n",
        "print(\"물체는 \" + str(energy) + \"(줄)의 에너지를 가지고 있다.\")"
      ],
      "metadata": {
        "colab": {
          "base_uri": "https://localhost:8080/"
        },
        "id": "fdVikJqmQGOY",
        "outputId": "c1355891-02b4-434d-dbfb-5fbc6224b8b8"
      },
      "execution_count": 10,
      "outputs": [
        {
          "output_type": "stream",
          "name": "stdout",
          "text": [
            "물체의 무게를 입력하시오(킬로그램): 15\n",
            "물체의 속도를 입력하시오(미터/초): 3\n",
            "물체는 67.5(줄)의 에너지를 가지고 있다.\n"
          ]
        }
      ]
    }
  ]
}