{
  "nbformat": 4,
  "nbformat_minor": 0,
  "metadata": {
    "colab": {
      "name": "기초파이썬_성적계산하기_2100447_민주희",
      "provenance": [],
      "collapsed_sections": [],
      "authorship_tag": "ABX9TyP73InRfEyj3uxL3IUfs7ZX",
      "include_colab_link": true
    },
    "kernelspec": {
      "name": "python3",
      "display_name": "Python 3"
    },
    "language_info": {
      "name": "python"
    }
  },
  "cells": [
    {
      "cell_type": "markdown",
      "metadata": {
        "id": "view-in-github",
        "colab_type": "text"
      },
      "source": [
        "<a href=\"https://colab.research.google.com/github/MINJUHEE02/-/blob/%EA%B8%B0%EC%B4%88%ED%8C%8C%EC%9D%B4%EC%8D%AC/%EA%B8%B0%EC%B4%88%ED%8C%8C%EC%9D%B4%EC%8D%AC_%EC%84%B1%EC%A0%81%EA%B3%84%EC%82%B0%ED%95%98%EA%B8%B0_2100447_%EB%AF%BC%EC%A3%BC%ED%9D%AC.ipynb\" target=\"_parent\"><img src=\"https://colab.research.google.com/assets/colab-badge.svg\" alt=\"Open In Colab\"/></a>"
      ]
    },
    {
      "cell_type": "code",
      "metadata": {
        "colab": {
          "base_uri": "https://localhost:8080/"
        },
        "id": "e2rQ8JThaCYl",
        "outputId": "e651bdb6-490d-43cc-b6bb-4db73c3eee66"
      },
      "source": [
        "#성적 입력받기\n",
        "score = int(input(\"input score:\"))\n",
        "\n",
        "if score >=90: #90점 이상이면\n",
        "    grade = \"A\" #grade 변수는 a\n",
        "elif score >=80:\n",
        "    grade = \"B\"\n",
        "elif score >=70:\n",
        "    grade = \"C\"\n",
        "elif score >=60:\n",
        "    grade = \"D\"\n",
        "else:\n",
        "    grade = \"F\"\n",
        "\n",
        "print(grade) #grade변수 출력"
      ],
      "execution_count": null,
      "outputs": [
        {
          "output_type": "stream",
          "name": "stdout",
          "text": [
            "input score:95\n",
            "A\n"
          ]
        }
      ]
    }
  ]
}