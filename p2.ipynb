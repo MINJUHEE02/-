{
  "nbformat": 4,
  "nbformat_minor": 0,
  "metadata": {
    "colab": {
      "name": "p2.ipynb",
      "provenance": [],
      "collapsed_sections": [],
      "authorship_tag": "ABX9TyOdjwoNDEXFd1sr/sS3/IzT",
      "include_colab_link": true
    },
    "kernelspec": {
      "name": "python3",
      "display_name": "Python 3"
    },
    "language_info": {
      "name": "python"
    }
  },
  "cells": [
    {
      "cell_type": "markdown",
      "metadata": {
        "id": "view-in-github",
        "colab_type": "text"
      },
      "source": [
        "<a href=\"https://colab.research.google.com/github/MINJUHEE02/-/blob/%EA%B8%B0%EC%B4%88%ED%8C%8C%EC%9D%B4%EC%8D%AC/p2.ipynb\" target=\"_parent\"><img src=\"https://colab.research.google.com/assets/colab-badge.svg\" alt=\"Open In Colab\"/></a>"
      ]
    },
    {
      "cell_type": "code",
      "execution_count": 3,
      "metadata": {
        "colab": {
          "base_uri": "https://localhost:8080/"
        },
        "id": "NfAUi3o56tkp",
        "outputId": "3966b870-3676-48b5-c3f4-97a2668bbf52"
      },
      "outputs": [
        {
          "output_type": "stream",
          "name": "stdout",
          "text": [
            "이름을 입력하시오: 민주희\n",
            "나이를 입력하시오: 20\n",
            "민주희씨는2101년에 100살이시네요!\n"
          ]
        }
      ],
      "source": [
        "name = input(\"이름을 입력하시오: \")\n",
        "age = int(input(\"나이를 입력하시오: \"))\n",
        "year = 2021-age+100\n",
        "print(name + \"씨는\" + str(year) + \"년에 100살이시네요!\")      #정수 변수는 str()을 적용하여 문자열로 변환할 수 있음"
      ]
    },
    {
      "cell_type": "code",
      "source": [
        "n1 = int(input(\"첫 번째 숫자를 입력하시오: \"))\n",
        "n2 = int(input(\"두 번째 숫자를 입력하시오: \"))\n",
        "n3 = int(input(\"세 번째 숫자를 입력하시오: \"))   #사용자로부터 받은 문자열은 int() 함수를 적용하여 정수로 바꾼다.\n",
        "\n",
        "average = (n1 + n2 + n3) / 3\n",
        "\n",
        "print(n1, n2, n3,\"의 평균은\", average, \"입니다.\")"
      ],
      "metadata": {
        "colab": {
          "base_uri": "https://localhost:8080/"
        },
        "id": "EAQNZ6Nr7lMy",
        "outputId": "accdd157-57c0-4b12-d19b-9111bc9375b0"
      },
      "execution_count": 4,
      "outputs": [
        {
          "output_type": "stream",
          "name": "stdout",
          "text": [
            "첫 번째 숫자를 입력하시오: 3\n",
            "두 번째 숫자를 입력하시오: 7\n",
            "세 번째 숫자를 입력하시오: 6\n",
            "3 7 6 의 평균은 5.333333333333333 입니다.\n"
          ]
        }
      ]
    },
    {
      "cell_type": "code",
      "source": [
        "radius = int(input(\"반지름을 입력하시오: \"))\n",
        "area = 3.141592 * radius * radius                    #*는 곱셈을 나타냄\n",
        "print(\"반지름이\", radius, \"인 원의 넓이 =\", area, \"입니다.\")"
      ],
      "metadata": {
        "colab": {
          "base_uri": "https://localhost:8080/"
        },
        "id": "BPOxCrYr8tgK",
        "outputId": "377b5b90-df32-4630-dc8e-f2f6d07b4599"
      },
      "execution_count": 12,
      "outputs": [
        {
          "output_type": "stream",
          "name": "stdout",
          "text": [
            "반지름을 입력하시오: 10\n",
            "반지름이 10 인 원의 넓이 = 314.1592 입니다.\n"
          ]
        }
      ]
    }
  ]
}