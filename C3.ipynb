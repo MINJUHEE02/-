{
  "nbformat": 4,
  "nbformat_minor": 0,
  "metadata": {
    "colab": {
      "name": "C3.ipynb",
      "provenance": [],
      "collapsed_sections": [],
      "authorship_tag": "ABX9TyOXkaVyWOQ7ya210+ttfTET",
      "include_colab_link": true
    },
    "kernelspec": {
      "name": "python3",
      "display_name": "Python 3"
    },
    "language_info": {
      "name": "python"
    }
  },
  "cells": [
    {
      "cell_type": "markdown",
      "metadata": {
        "id": "view-in-github",
        "colab_type": "text"
      },
      "source": [
        "<a href=\"https://colab.research.google.com/github/MINJUHEE02/-/blob/%EA%B8%B0%EC%B4%88%ED%8C%8C%EC%9D%B4%EC%8D%AC/C3.ipynb\" target=\"_parent\"><img src=\"https://colab.research.google.com/assets/colab-badge.svg\" alt=\"Open In Colab\"/></a>"
      ]
    },
    {
      "cell_type": "code",
      "execution_count": 7,
      "metadata": {
        "colab": {
          "base_uri": "https://localhost:8080/"
        },
        "id": "aTfBmS43UkHt",
        "outputId": "31b580a8-8608-41a2-943d-a75f007acdd8"
      },
      "outputs": [
        {
          "output_type": "stream",
          "name": "stdout",
          "text": [
            "아메리카노 판매 개수: 3\n",
            "카페라테 판매 개수: 4\n",
            "카푸치노 판매 개수: 5\n",
            "총 매출은 35500 입니다.\n",
            "적자입니다.\n"
          ]
        }
      ],
      "source": [
        "total = 100000 #총 재료비용\n",
        "americano_price = 2000\n",
        "cafelatte_price = 3000\n",
        "capucino_price = 3500\n",
        "\n",
        "americanos = int(input(\"아메리카노 판매 개수: \"))       #int() 함수를 적용하여 정수로 바꾼다.\n",
        "cafelattes = int(input(\"카페라테 판매 개수: \"))\n",
        "capucinos = int(input(\"카푸치노 판매 개수: \"))\n",
        "\n",
        "sales = americanos * americano_price\n",
        "sales = sales + cafelattes * cafelatte_price\n",
        "sales = sales + capucinos * capucino_price\n",
        "print(\"총 매출은\", sales, \"입니다.\")\n",
        "\n",
        "if(total < sales) : print(\"흑자입니다.\")\n",
        "else : print(\"적자입니다.\")"
      ]
    },
    {
      "cell_type": "code",
      "source": [
        "ctemp = int(input(\"섭씨온도: \"))\n",
        "ftemp = 9/5*ctemp+32\n",
        "print(\"화씨온도: \", ftemp)"
      ],
      "metadata": {
        "colab": {
          "base_uri": "https://localhost:8080/"
        },
        "id": "FgbI9DaqYsI-",
        "outputId": "ba12b0c0-06e6-4880-f50b-d4226b39482f"
      },
      "execution_count": 8,
      "outputs": [
        {
          "output_type": "stream",
          "name": "stdout",
          "text": [
            "섭씨온도: 3\n",
            "화씨온도:  37.4\n"
          ]
        }
      ]
    },
    {
      "cell_type": "code",
      "source": [
        "money = int(input(\"투입한 돈: \"))\n",
        "price = int(input(\"물건 값: \"))\n",
        "\n",
        "change = money - price \n",
        "print(\"거스름돈: \", change)\n",
        "coin500s = change // 500   #500으로 나누어 몫이 500원짜리의 개수\n",
        "change = change % 500   #500으로 나눈 나머지를 계산한다.\n",
        "coin100s = change // 100\n",
        "change = change % 100\n",
        "coin50s = change // 50\n",
        "change = change % 50\n",
        "coin10s = change // 10\n",
        "change = change % 10\n",
        "print(\"500원 동전의 개수: \", coin500s)\n",
        "print(\"100원 동전의 개수: \", coin100s)\n",
        "print(\"50원 동전의 개수: \", coin50s)\n",
        "print(\"10원 동전의 개수: \", coin10s)"
      ],
      "metadata": {
        "colab": {
          "base_uri": "https://localhost:8080/"
        },
        "id": "BaoQVUfzZ8Nz",
        "outputId": "624c0fb9-9db7-43bd-976e-f235357a9b23"
      },
      "execution_count": 9,
      "outputs": [
        {
          "output_type": "stream",
          "name": "stdout",
          "text": [
            "투입한 돈: 500\n",
            "물건 값: 300\n",
            "거스름돈:  200\n",
            "500원 동전의 개수:  0\n",
            "100원 동전의 개수:  2\n",
            "50원 동전의 개수:  0\n",
            "10원 동전의 개수:  0\n"
          ]
        }
      ]
    },
    {
      "cell_type": "code",
      "source": [
        "#사용자로부터 투입한 금액과 물건 값을 입력받는다.\n",
        "money = int(input(\"투입한 돈: \"))\n",
        "price = int(input(\"물건 값: \"))\n",
        "\n",
        "change = money - price    #거스름돈 계산\n",
        "coin500s = change // 500   #500으로 나눠서 몫이 500원짜리의 개수\n",
        "change = change % 500      #500으로 나눈 나머지 계산\n",
        "coin100s = change // 100\n",
        "change = change % 100\n",
        "print(\"500원 동전의 개수: \", coin500s)     #거슬러줄 500원짜리 개수 출력\n",
        "print(\"100원 동전의 개수: \", coin100s)"
      ],
      "metadata": {
        "colab": {
          "base_uri": "https://localhost:8080/"
        },
        "id": "p4Lckx83coZn",
        "outputId": "a7b61536-0fe8-40f8-bf24-693b9520fbe0"
      },
      "execution_count": 12,
      "outputs": [
        {
          "output_type": "stream",
          "name": "stdout",
          "text": [
            "투입한 돈: 5000\n",
            "물건 값: 3500\n",
            "500원 동전의 개수:  3\n",
            "100원 동전의 개수:  0\n"
          ]
        }
      ]
    }
  ]
}