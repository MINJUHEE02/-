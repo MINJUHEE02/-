{
  "nbformat": 4,
  "nbformat_minor": 0,
  "metadata": {
    "colab": {
      "name": "c 1 + 2.ipynb",
      "provenance": [],
      "collapsed_sections": [],
      "authorship_tag": "ABX9TyOM496qqOPB8ytkGauTN3Ii",
      "include_colab_link": true
    },
    "kernelspec": {
      "name": "python3",
      "display_name": "Python 3"
    },
    "language_info": {
      "name": "python"
    }
  },
  "cells": [
    {
      "cell_type": "markdown",
      "metadata": {
        "id": "view-in-github",
        "colab_type": "text"
      },
      "source": [
        "<a href=\"https://colab.research.google.com/github/MINJUHEE02/-/blob/%EA%B8%B0%EC%B4%88%ED%8C%8C%EC%9D%B4%EC%8D%AC/c_1_%2B_2.ipynb\" target=\"_parent\"><img src=\"https://colab.research.google.com/assets/colab-badge.svg\" alt=\"Open In Colab\"/></a>"
      ]
    },
    {
      "cell_type": "code",
      "execution_count": 1,
      "metadata": {
        "colab": {
          "base_uri": "https://localhost:8080/"
        },
        "id": "sfKQl6HY-8NG",
        "outputId": "c2e9ec4f-cd72-4dd3-e723-ed79043c9bb6"
      },
      "outputs": [
        {
          "output_type": "stream",
          "name": "stdout",
          "text": [
            "안녕하세요?\n",
            "programing에 입문하신 것을 축하드립니다.\n",
            "314.1592\n",
            "123.4\n"
          ]
        }
      ],
      "source": [
        "print(\"안녕하세요?\")\n",
        "print(\"programing에 입문하신 것을 축하드립니다.\")     #print() 함수를 이용하면 화면에 출력할 수 있음.\n",
        "print(3.141592*10.0*10.0)\n",
        "print((10/100)*1234)                       #*는 곱셈을 나타내는 기호임."
      ]
    },
    {
      "cell_type": "code",
      "source": [
        "x = int(input(\"첫 번째 정수를 입력하시오: \"))\n",
        "y = int(input(\"두 번째 정수를 입력하시오; \"))\n",
        "\n",
        "print(x, \"+\", y, \"=\", x + y)\n",
        "print(x, \"-\", y, \"=\", x - y)\n",
        "print(x, \"*\", y, \"=\", x * y)\n",
        "print(x, \"/\", y, \"=\", x / y)"
      ],
      "metadata": {
        "colab": {
          "base_uri": "https://localhost:8080/"
        },
        "id": "IIa6fV-AAx0z",
        "outputId": "13bf9cc7-6066-48ae-a4d6-a1845c92a60c"
      },
      "execution_count": 2,
      "outputs": [
        {
          "output_type": "stream",
          "name": "stdout",
          "text": [
            "첫 번째 정수를 입력하시오: 5\n",
            "두 번째 정수를 입력하시오; 3\n",
            "5 + 3 = 8\n",
            "5 - 3 = 2\n",
            "5 * 3 = 15\n",
            "5 / 3 = 1.6666666666666667\n"
          ]
        }
      ]
    },
    {
      "cell_type": "code",
      "source": [
        "name = input(\"이름을 입력하시오: \")\n",
        "print(name, \"씨, 안녕하세요?\")\n",
        "print(\"파이썬에 오신 것을 환영합니다.\")"
      ],
      "metadata": {
        "colab": {
          "base_uri": "https://localhost:8080/"
        },
        "id": "OBaZjQQQDQdT",
        "outputId": "6b05644d-d4d8-4fc1-a24f-c998eb10cf41"
      },
      "execution_count": 3,
      "outputs": [
        {
          "output_type": "stream",
          "name": "stdout",
          "text": [
            "이름을 입력하시오: 민주희\n",
            "민주희 씨, 안녕하세요?\n",
            "파이썬에 오신 것을 환영합니다.\n"
          ]
        }
      ]
    },
    {
      "cell_type": "code",
      "source": [
        "x = int(input(\"첫 번째 정수를 입력하시오: \"))\n",
        "y = int(input(\"두 번째 정수를 입력하시오: \"))\n",
        "\n",
        "print(x,\"과\", y, \"의 합은\", x+y, \"입니다.\")"
      ],
      "metadata": {
        "colab": {
          "base_uri": "https://localhost:8080/"
        },
        "id": "wiYa1SxkD9EJ",
        "outputId": "e65a26a8-dd06-4bbf-d592-c1d53e9e278d"
      },
      "execution_count": 6,
      "outputs": [
        {
          "output_type": "stream",
          "name": "stdout",
          "text": [
            "첫 번째 정수를 입력하시오: 6\n",
            "두 번째 정수를 입력하시오: 7\n",
            "6 과 7 의 합은 13 입니다.\n"
          ]
        }
      ]
    }
  ]
}