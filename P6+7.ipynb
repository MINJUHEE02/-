{
  "nbformat": 4,
  "nbformat_minor": 0,
  "metadata": {
    "colab": {
      "name": "P6+7.ipynb",
      "provenance": [],
      "collapsed_sections": [],
      "authorship_tag": "ABX9TyMGjsbYwwggsr5CoKq1e5cD",
      "include_colab_link": true
    },
    "kernelspec": {
      "name": "python3",
      "display_name": "Python 3"
    },
    "language_info": {
      "name": "python"
    }
  },
  "cells": [
    {
      "cell_type": "markdown",
      "metadata": {
        "id": "view-in-github",
        "colab_type": "text"
      },
      "source": [
        "<a href=\"https://colab.research.google.com/github/MINJUHEE02/-/blob/%EA%B8%B0%EC%B4%88%ED%8C%8C%EC%9D%B4%EC%8D%AC/P6%2B7.ipynb\" target=\"_parent\"><img src=\"https://colab.research.google.com/assets/colab-badge.svg\" alt=\"Open In Colab\"/></a>"
      ]
    },
    {
      "cell_type": "code",
      "execution_count": 1,
      "metadata": {
        "colab": {
          "base_uri": "https://localhost:8080/"
        },
        "id": "uq7pMghAEBCZ",
        "outputId": "6450fb5b-e0b6-46d3-a79d-af7d784adda2"
      },
      "outputs": [
        {
          "output_type": "stream",
          "name": "stdout",
          "text": [
            "2 4 6 8 10 12 14 16 18 20 22 24 26 28 30 32 34 36 38 40 42 44 46 48 50 52 54 56 58 60 62 64 66 68 70 72 74 76 78 80 82 84 86 88 90 92 94 96 98 100 "
          ]
        }
      ],
      "source": [
        "for i in range(2, 101):\n",
        "  if i%2==0 :                    #x%2의 결과가 0이면 x는 짝수\n",
        "    print(i, end = \" \")"
      ]
    },
    {
      "cell_type": "code",
      "source": [
        "year = 0\n",
        "balance = 1000\n",
        "\n",
        "while balance <= 2000:\n",
        "  year = year + 1\n",
        "  interest = balance * 0.07\n",
        "  balance = balance + interest\n",
        "print(year, \"년이 걸립니다.\")"
      ],
      "metadata": {
        "colab": {
          "base_uri": "https://localhost:8080/"
        },
        "id": "dVehl6ygEeof",
        "outputId": "a78c2ef1-0917-4f22-e5dd-244f2356468b"
      },
      "execution_count": 2,
      "outputs": [
        {
          "output_type": "stream",
          "name": "stdout",
          "text": [
            "11 년이 걸립니다.\n"
          ]
        }
      ]
    },
    {
      "cell_type": "code",
      "source": [
        "n = 1234\n",
        "sum = 0\n",
        "while n > 0 :\n",
        "  digit = n % 10\n",
        "  sum = sum + digit\n",
        "  n = n // 10\n",
        "print(sum)"
      ],
      "metadata": {
        "colab": {
          "base_uri": "https://localhost:8080/"
        },
        "id": "x4FAK90fFWZ7",
        "outputId": "19c1d7a3-108c-4c2c-8b0d-3195bb35d814"
      },
      "execution_count": 4,
      "outputs": [
        {
          "output_type": "stream",
          "name": "stdout",
          "text": [
            "10\n"
          ]
        }
      ]
    },
    {
      "cell_type": "code",
      "source": [
        "ans = 0\n",
        "while ans != 3*9:               #while 루프는 어떤 조건이 만족될 때까지 반복하는 것이다.\n",
        "  ans = int(input(\"3*9는\"))\n",
        "print(\"맞았습니다.\")"
      ],
      "metadata": {
        "colab": {
          "base_uri": "https://localhost:8080/"
        },
        "id": "zBTw1M-WF29j",
        "outputId": "7c64288d-4e9e-44a6-b145-8486da192b56"
      },
      "execution_count": 6,
      "outputs": [
        {
          "output_type": "stream",
          "name": "stdout",
          "text": [
            "3*9는27\n",
            "맞았습니다.\n"
          ]
        }
      ]
    },
    {
      "cell_type": "code",
      "source": [
        "sum = 0\n",
        "while True:\n",
        "  x = int(input(\"정수를 입력하시오: \"))\n",
        "  if x == 0:\n",
        "    break;              #사용자가 입력한시값이 0이면 break문장을 실행하여 무한 루프를 빠져나간다.\n",
        "  sum = sum + x\n",
        "\n",
        "print(\"합은\", sum, \"입니다.\")"
      ],
      "metadata": {
        "colab": {
          "base_uri": "https://localhost:8080/"
        },
        "id": "FkHOIy7OGjBQ",
        "outputId": "c17cd26a-a000-42f0-9813-f80470f98844"
      },
      "execution_count": 7,
      "outputs": [
        {
          "output_type": "stream",
          "name": "stdout",
          "text": [
            "정수를 입력하시오: 65\n",
            "정수를 입력하시오: 5\n",
            "정수를 입력하시오: 8\n",
            "정수를 입력하시오: 0\n",
            "합은 78 입니다.\n"
          ]
        }
      ]
    },
    {
      "cell_type": "code",
      "source": [
        "from random import randint\n",
        "\n",
        "for i in range(3) :\n",
        "  d1 = randint(1, 6)\n",
        "  d2 = randint(1, 6)\n",
        "  print(\"첫번째 주사위=\", d1, \"두번째 주사위=\", d2)"
      ],
      "metadata": {
        "colab": {
          "base_uri": "https://localhost:8080/"
        },
        "id": "rUwLO0lTHY2c",
        "outputId": "21f2fb42-08d3-44fb-a48c-5f0fe6e09232"
      },
      "execution_count": 8,
      "outputs": [
        {
          "output_type": "stream",
          "name": "stdout",
          "text": [
            "첫번째 주사위= 2 두번째 주사위= 5\n",
            "첫번째 주사위= 4 두번째 주사위= 4\n",
            "첫번째 주사위= 1 두번째 주사위= 2\n"
          ]
        }
      ]
    },
    {
      "cell_type": "code",
      "source": [
        "def happybirthday(person):\n",
        "  print(\"happy birthday to you!\")\n",
        "  print(\"happy birthday to you!\")\n",
        "  print(\"happy birthday, dear \" + person)\n",
        "  print(\"happy birthday tto you!\")\n",
        "\n",
        "happybirthday(\"민주희\")"
      ],
      "metadata": {
        "colab": {
          "base_uri": "https://localhost:8080/"
        },
        "id": "QbNVLSdDIGrr",
        "outputId": "4d652f38-43a9-4e28-bf3e-603887399cab"
      },
      "execution_count": 11,
      "outputs": [
        {
          "output_type": "stream",
          "name": "stdout",
          "text": [
            "happy birthday to you!\n",
            "happy birthday to you!\n",
            "happy birthday, dear 민주희\n",
            "happy birthday tto you!\n"
          ]
        }
      ]
    },
    {
      "cell_type": "code",
      "source": [
        "def sumProblem(x, y):\n",
        "  sum = x + y\n",
        "  sentence = \"정수\" + str(x) + \"+\"+str(y)+\"의 합은?\"\n",
        "  print(sentence)\n",
        "\n",
        "def main():\n",
        "  a = int(input(\"첫 번째 정수: \"))\n",
        "  b = int(input(\"두 번째 정수: \"))\n",
        "  sumProblem(a, b)\n",
        "\n",
        "main()"
      ],
      "metadata": {
        "colab": {
          "base_uri": "https://localhost:8080/"
        },
        "id": "KSutadGyI4an",
        "outputId": "2ee3b6bf-0196-41de-b0f5-2790636038b9"
      },
      "execution_count": 15,
      "outputs": [
        {
          "output_type": "stream",
          "name": "stdout",
          "text": [
            "첫 번째 정수: 7\n",
            "두 번째 정수: 4\n",
            "정수7+4의 합은?\n"
          ]
        }
      ]
    },
    {
      "cell_type": "code",
      "source": [
        "PI = 3.14159265358979\n",
        "\n",
        "def circleArea(radius):\n",
        "   return PI*radius*radius\n",
        "\n",
        "def circleCircumference(radius):\n",
        "   return 2*PI*radius\n",
        "\n",
        "def main():\n",
        "  print(\"반의름이 5인 원의 면적: \", circleArea(5))\n",
        "  print(\"반지름이 5인 원의 둘레: \", circleCircumference(5))\n",
        "\n",
        "main()"
      ],
      "metadata": {
        "colab": {
          "base_uri": "https://localhost:8080/"
        },
        "id": "DtRPrE63LENP",
        "outputId": "52ebc054-ea49-4fce-865e-945e01f892a9"
      },
      "execution_count": 28,
      "outputs": [
        {
          "output_type": "stream",
          "name": "stdout",
          "text": [
            "반의름이 5인 원의 면적:  78.53981633974475\n",
            "반지름이 5인 원의 둘레:  31.4159265358979\n"
          ]
        }
      ]
    },
    {
      "cell_type": "code",
      "source": [
        "def add(a, b):\n",
        "  print( \"(%d + %d)\" % (a, b), end=\" \")\n",
        "  return a+b\n",
        "\n",
        "def subtract(a, b):\n",
        "  print(\"(%d - %d)\" % (a, b), end=\" \")\n",
        "  return a - b\n",
        "\n",
        "def multiply(a, b):\n",
        "  print(\"(%d * %d)\" % (a, b), end=\" \")\n",
        "  return a * b\n",
        "\n",
        "def divide(a, b):\n",
        "  print(\"(%d / %d)\" % (a, b), end=\" \")\n",
        "  return a / b\n",
        "\n",
        "what = add(20, 10)\n",
        "print(\"=\", what)"
      ],
      "metadata": {
        "colab": {
          "base_uri": "https://localhost:8080/"
        },
        "id": "7485j6m1LGaG",
        "outputId": "e6e5f56f-eefa-4434-8c47-b1c819238d6a"
      },
      "execution_count": 29,
      "outputs": [
        {
          "output_type": "stream",
          "name": "stdout",
          "text": [
            "(20 + 10) = 30\n"
          ]
        }
      ]
    }
  ]
}